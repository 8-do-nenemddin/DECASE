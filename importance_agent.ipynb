{
 "cells": [
  {
   "cell_type": "code",
   "execution_count": 1,
   "id": "c9bd1790",
   "metadata": {},
   "outputs": [
    {
     "data": {
      "text/plain": [
       "True"
      ]
     },
     "execution_count": 1,
     "metadata": {},
     "output_type": "execute_result"
    }
   ],
   "source": [
    "from dotenv import load_dotenv\n",
    "load_dotenv()"
   ]
  },
  {
   "cell_type": "code",
   "execution_count": 2,
   "id": "34aec4a9",
   "metadata": {},
   "outputs": [],
   "source": [
    "import os\n",
    "api_key = os.getenv(\"OPENAI_API_KEY\")"
   ]
  },
  {
   "cell_type": "code",
   "execution_count": 3,
   "id": "54ffefd1",
   "metadata": {},
   "outputs": [],
   "source": [
    "from openai import OpenAI\n",
    "\n",
    "client = OpenAI(api_key=api_key)"
   ]
  },
  {
   "cell_type": "code",
   "execution_count": 4,
   "id": "3ab34b7a",
   "metadata": {},
   "outputs": [],
   "source": [
    "import json\n",
    "from tqdm import tqdm"
   ]
  },
  {
   "cell_type": "code",
   "execution_count": null,
   "id": "60103274",
   "metadata": {},
   "outputs": [],
   "source": [
    "detailed_output_path = \"./data/enriched_requirements_detailed.json\""
   ]
  },
  {
   "cell_type": "code",
   "execution_count": 7,
   "id": "dd80ebdb",
   "metadata": {},
   "outputs": [],
   "source": [
    "# 프롬프트 생성 함수 (detailed_description 포함)\n",
    "def generate_prompt(description, detailed_description, module):\n",
    "    return f\"\"\"\n",
    "당신은 소프트웨어 요구사항을 분석하여 중요도를 판단하는 전문가입니다.\n",
    "\n",
    "다음은 시스템에 대한 요구사항입니다:\n",
    "\n",
    "[요구사항 설명]\n",
    "{description}\n",
    "\n",
    "[상세 설명]\n",
    "{detailed_description}\n",
    "\n",
    "[담당 모듈]\n",
    "{module}\n",
    "\n",
    "요구사항을 분석한 뒤, 다음 항목을 평가하세요:\n",
    "\n",
    "**중요도**: 해당 요구사항이 시스템 전체의 기능, 보안, 안정성에 얼마나 큰 영향을 주는지 판단해 '상', '중', '하' 중 하나로 평가하세요.\n",
    "- 상 (C, Critical) : 필수적인 사항. 본 사항에 대한 구현 실패는 곧 시스템 전체의 실패를 의미함. 모든 필수 사항들은 일정 내에 반드시 구현되어야 함.\n",
    "- 중 (I, Important): 시스템 기능적 효율적 측면에서 중요한 사항들. 본 사항에 대한 구현 실패는 revenue나 customer satisfaction에 영향을 미치지만 실제 일정 상에는 영향을 미치지 않음.\n",
    "- 하 (U, Useful)  : 유용하나 revenue나 customer satisfaction에 심각한 영향을 미치지 않는 사항\n",
    "\n",
    "아래와 같이 **정확히 이 형식**으로만 출력하세요 (불필요한 설명 없이):\n",
    "\n",
    "중요도: <상|중|하>  \n",
    "\"\"\"\n"
   ]
  },
  {
   "cell_type": "code",
   "execution_count": null,
   "id": "e269ca22",
   "metadata": {},
   "outputs": [],
   "source": [
    "# GPT 응답 처리 함수\n",
    "def get_importance_and_difficulty(description, detailed_description, module):\n",
    "    prompt = generate_prompt(description, detailed_description, module)\n",
    "    try:\n",
    "        response = client.chat.completions.create(\n",
    "            model=\"gpt-4\",\n",
    "            messages=[\n",
    "                {\"role\": \"system\", \"content\": \"당신은 소프트웨어 분석 전문가입니다.\"},\n",
    "                {\"role\": \"user\", \"content\": prompt}\n",
    "            ],\n",
    "            temperature=0.2\n",
    "        )\n",
    "        content = response.choices[0].message.content\n",
    "        importance = next((line.split(\":\")[1].strip() for line in content.splitlines() if \"중요도\" in line), \"중\")\n",
    "        difficulty = next((line.split(\":\")[1].strip() for line in content.splitlines() if \"난이도\" in line), \"중\")\n",
    "        return importance, difficulty\n",
    "    except Exception as e:\n",
    "        print(\"Error:\", e)\n",
    "        return \"Error\", \"Error\""
   ]
  },
  {
   "cell_type": "code",
   "execution_count": null,
   "id": "18a604dd",
   "metadata": {},
   "outputs": [],
   "source": [
    "\n",
    "with open(detailed_output_path, \"r\", encoding=\"utf-8\") as f:\n",
    "    requirements = json.load(f)\n",
    "\n",
    "# 평가 수행\n",
    "for req in tqdm(requirements):\n",
    "    desc = req.get(\"description\", \"\")\n",
    "    detailed_desc = req.get(\"detailed_description\", \"\")\n",
    "    module = req.get(\"responsible_module\", \"\")\n",
    "    importance, difficulty = get_importance_and_difficulty(desc, detailed_desc, module)\n",
    "    req[\"importance\"] = importance\n",
    "\n",
    "importance_output_path = \"./data/enriched_requirements_importance.json\"\n",
    "\n",
    "with open(importance_output_path, \"w\", encoding=\"utf-8\") as f:\n",
    "    json.dump(requirements, f, ensure_ascii=False, indent=4)\n",
    "\n",
    "print(\"📊 평가 완료: enriched_requirements_importance.json 저장됨.\")\n"
   ]
  },
  {
   "cell_type": "code",
   "execution_count": null,
   "id": "c5dfdfb9",
   "metadata": {},
   "outputs": [],
   "source": []
  }
 ],
 "metadata": {
  "kernelspec": {
   "display_name": "langchain-kr-YNZJsH64-py3.11",
   "language": "python",
   "name": "python3"
  },
  "language_info": {
   "codemirror_mode": {
    "name": "ipython",
    "version": 3
   },
   "file_extension": ".py",
   "mimetype": "text/x-python",
   "name": "python",
   "nbconvert_exporter": "python",
   "pygments_lexer": "ipython3",
   "version": "3.11.0"
  }
 },
 "nbformat": 4,
 "nbformat_minor": 5
}
