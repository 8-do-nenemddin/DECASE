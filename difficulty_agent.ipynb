{
 "cells": [
  {
   "cell_type": "code",
   "execution_count": 1,
   "id": "c9bd1790",
   "metadata": {},
   "outputs": [
    {
     "data": {
      "text/plain": [
       "True"
      ]
     },
     "execution_count": 1,
     "metadata": {},
     "output_type": "execute_result"
    }
   ],
   "source": [
    "from dotenv import load_dotenv\n",
    "load_dotenv()"
   ]
  },
  {
   "cell_type": "code",
   "execution_count": 2,
   "id": "34aec4a9",
   "metadata": {},
   "outputs": [],
   "source": [
    "import os\n",
    "api_key = os.getenv(\"OPENAI_API_KEY\")"
   ]
  },
  {
   "cell_type": "code",
   "execution_count": 3,
   "id": "54ffefd1",
   "metadata": {},
   "outputs": [],
   "source": [
    "from openai import OpenAI\n",
    "\n",
    "client = OpenAI(api_key=api_key)"
   ]
  },
  {
   "cell_type": "code",
   "execution_count": 4,
   "id": "3ab34b7a",
   "metadata": {},
   "outputs": [],
   "source": [
    "import json\n",
    "from tqdm import tqdm"
   ]
  },
  {
   "cell_type": "code",
   "execution_count": null,
   "id": "60103274",
   "metadata": {},
   "outputs": [],
   "source": [
    "importance_output_path = \"./data/enriched_requirements_importance.json\""
   ]
  },
  {
   "cell_type": "code",
   "execution_count": null,
   "id": "dd80ebdb",
   "metadata": {},
   "outputs": [],
   "source": [
    "# 프롬프트 생성 함수 (detailed_description 포함)\n",
    "def generate_prompt(description, detailed_description, module):\n",
    "    return f\"\"\"\n",
    "당신은 소프트웨어 요구사항을 분석하여 난이도를 판단하는 전문가입니다.\n",
    "\n",
    "다음은 시스템에 대한 요구사항입니다:\n",
    "\n",
    "[요구사항 설명]\n",
    "{description}\n",
    "\n",
    "[상세 설명]\n",
    "{detailed_description}\n",
    "\n",
    "[담당 모듈]\n",
    "{module}\n",
    "\n",
    "요구사항을 분석한 뒤, 다음 두 가지 항목을 평가하세요:\n",
    "\n",
    "**난이도**: 요구사항의 기술적 구현, 연동, 유지보수의 복잡성을 고려하여 '상', '중', '하' 중 하나로 평가하세요.\n",
    "- 상 (H, High)  : 자체 개발 일정에 차질이 있을 정도의 노력이 필요한 경우\n",
    "- 중 (M, Medium): 자체 개발 일정 내에 완수 할 수 있는 경우\n",
    "- 하 (L, Low)   : 자체 개발 일정에 일부분으로 흡수되어도 되는 경우\n",
    "\n",
    "아래와 같이 **정확히 이 형식**으로만 출력하세요 (불필요한 설명 없이):\n",
    "\n",
    "난이도: <상|중|하>\n",
    "\"\"\""
   ]
  },
  {
   "cell_type": "code",
   "execution_count": null,
   "id": "17e6dfeb",
   "metadata": {},
   "outputs": [],
   "source": [
    "# GPT 응답 처리 함수\n",
    "def get_importance_and_difficulty(description, detailed_description, module):\n",
    "    prompt = generate_prompt(description, detailed_description, module)\n",
    "    try:\n",
    "        response = client.chat.completions.create(\n",
    "            model=\"gpt-4\",\n",
    "            messages=[\n",
    "                {\"role\": \"system\", \"content\": \"당신은 소프트웨어 분석 전문가입니다.\"},\n",
    "                {\"role\": \"user\", \"content\": prompt}\n",
    "            ],\n",
    "            temperature=0.2\n",
    "        )\n",
    "        content = response.choices[0].message.content\n",
    "        importance = next((line.split(\":\")[1].strip() for line in content.splitlines() if \"중요도\" in line), \"중\")\n",
    "        difficulty = next((line.split(\":\")[1].strip() for line in content.splitlines() if \"난이도\" in line), \"중\")\n",
    "        return importance, difficulty\n",
    "    except Exception as e:\n",
    "        print(\"Error:\", e)\n",
    "        return \"Error\", \"Error\"\n"
   ]
  },
  {
   "cell_type": "code",
   "execution_count": null,
   "id": "c6372be7",
   "metadata": {},
   "outputs": [],
   "source": [
    "# JSON 불러오기\n",
    "with open(importance_output_path, \"r\", encoding=\"utf-8\") as f:\n",
    "    requirements = json.load(f)\n",
    "\n",
    "# 평가 수행\n",
    "for req in tqdm(requirements):\n",
    "    desc = req.get(\"description\", \"\")\n",
    "    detailed_desc = req.get(\"detailed_description\", \"\")\n",
    "    module = req.get(\"responsible_module\", \"\")\n",
    "    importance, difficulty = get_importance_and_difficulty(desc, detailed_desc, module)\n",
    "    req[\"difficulty\"] = difficulty\n",
    "\n",
    "difficulty_output_path = \"./data/enriched_requirements_difficulty.json\"\n",
    "\n",
    "# 결과 저장\n",
    "with open(difficulty_output_path, \"w\", encoding=\"utf-8\") as f:\n",
    "    json.dump(requirements, f, ensure_ascii=False, indent=4)\n",
    "\n",
    "print(\"📊 평가 완료: enriched_requirements_difficulty.json 저장됨.\")"
   ]
  }
 ],
 "metadata": {
  "kernelspec": {
   "display_name": "langchain-kr-YNZJsH64-py3.11",
   "language": "python",
   "name": "python3"
  },
  "language_info": {
   "codemirror_mode": {
    "name": "ipython",
    "version": 3
   },
   "file_extension": ".py",
   "mimetype": "text/x-python",
   "name": "python",
   "nbconvert_exporter": "python",
   "pygments_lexer": "ipython3",
   "version": "3.11.0"
  }
 },
 "nbformat": 4,
 "nbformat_minor": 5
}
