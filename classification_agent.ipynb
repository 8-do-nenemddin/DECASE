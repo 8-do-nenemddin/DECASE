{
 "cells": [
  {
   "cell_type": "code",
   "execution_count": 1,
   "id": "c9bd1790",
   "metadata": {},
   "outputs": [
    {
     "data": {
      "text/plain": [
       "True"
      ]
     },
     "execution_count": 1,
     "metadata": {},
     "output_type": "execute_result"
    }
   ],
   "source": [
    "from dotenv import load_dotenv\n",
    "load_dotenv()"
   ]
  },
  {
   "cell_type": "code",
   "execution_count": 2,
   "id": "34aec4a9",
   "metadata": {},
   "outputs": [],
   "source": [
    "import os\n",
    "api_key = os.getenv(\"OPENAI_API_KEY\")"
   ]
  },
  {
   "cell_type": "code",
   "execution_count": 3,
   "id": "54ffefd1",
   "metadata": {},
   "outputs": [],
   "source": [
    "from openai import OpenAI\n",
    "\n",
    "client = OpenAI(api_key=api_key)"
   ]
  },
  {
   "cell_type": "code",
   "execution_count": 4,
   "id": "3ab34b7a",
   "metadata": {},
   "outputs": [],
   "source": [
    "import json\n",
    "from tqdm import tqdm"
   ]
  },
  {
   "cell_type": "code",
   "execution_count": null,
   "id": "60103274",
   "metadata": {},
   "outputs": [],
   "source": [
    "difficulty_output_path = \"./data/enriched_requirements_difficulty.json\""
   ]
  },
  {
   "cell_type": "code",
   "execution_count": null,
   "id": "dd80ebdb",
   "metadata": {},
   "outputs": [],
   "source": [
    "# 프롬프트 생성 함수 (detailed_description 포함)\n",
    "def generate_classification_prompt(description, detailed_description, module):\n",
    "    return f\"\"\"\n",
    "당신은 차세대 정보시스템 구축 프로젝트에서 요구사항을 분석하고, 아래 기준에 따라 대분류, 중분류, 소분류를 분류하는 전문가입니다.\n",
    "\n",
    "다음 요구사항 설명을 읽고 각 분류 항목에 맞게 분류해 주세요:\n",
    "\n",
    "[요구사항 설명]\n",
    "{description}\n",
    "\n",
    "[상세 설명]\n",
    "{detailed_description}\n",
    "\n",
    "[담당 모듈]\n",
    "{module}\n",
    "\n",
    "[분류 기준]\n",
    "1. **대분류**: 차세대 정보시스템 업무 수준  \n",
    "   예시: 수신, 여신, 부대/대행, 통합고객 등\n",
    "\n",
    "2. **중분류**: 단위업무 시스템 수준  \n",
    "   예시: 예금, 신탁, 상담신청, 심사승인 등\n",
    "\n",
    "3. **소분류**: 단위업무 시스템 하위 수준 (업무 프로세스 3~4레벨)  \n",
    "   ※ 소분류는 3레벨 분류가 어려운 경우 선택적으로 작성해도 무방함\n",
    "\n",
    "아래 형식으로 정확히 출력하세요 (불필요한 설명 없이):\n",
    "\n",
    "대분류: <텍스트>  \n",
    "중분류: <텍스트>  \n",
    "소분류: <텍스트 또는 '해당 없음'>\n",
    "\n",
    "※ 유의사항:\n",
    "- 반드시 대분류 → 중분류 → 소분류 순으로 작성\n",
    "- 각 분류명은 명확하고 직관적인 한국어 명사형 표현을 사용할 것\n",
    "- 기존 분류 체계가 없으므로, 의미적으로 유사한 요구사항끼리 논리적으로 묶어서 계층화할 것\n",
    "- 불필요한 설명 없이 위 형식만 출력\n",
    "\n",
    "\"\"\""
   ]
  },
  {
   "cell_type": "code",
   "execution_count": null,
   "id": "17e6dfeb",
   "metadata": {},
   "outputs": [],
   "source": [
    "def classify_requirement(description, detailed_description, module):\n",
    "    prompt = generate_classification_prompt(description, detailed_description, module)\n",
    "    try:\n",
    "        response = client.chat.completions.create(\n",
    "            model=\"gpt-4\",\n",
    "            messages=[\n",
    "                {\"role\": \"system\", \"content\": \"당신은 소프트웨어 분석 및 분류 전문가입니다.\"},\n",
    "                {\"role\": \"user\", \"content\": prompt}\n",
    "            ],\n",
    "            temperature=0.3\n",
    "        )\n",
    "        content = response.choices[0].message.content or \"\"\n",
    "        lines = [line.strip() for line in content.splitlines() if \":\" in line]\n",
    "\n",
    "        # 안전한 파싱\n",
    "        def extract_value(prefix):\n",
    "            for line in lines:\n",
    "                if line.startswith(prefix):\n",
    "                    parts = line.split(\":\", 1)\n",
    "                    if len(parts) == 2:\n",
    "                        return parts[1].strip()\n",
    "            return \"미분류\"\n",
    "\n",
    "        return {\n",
    "            \"category_large\": extract_value(\"대분류\"),\n",
    "            \"category_medium\": extract_value(\"중분류\"),\n",
    "            \"category_small\": extract_value(\"소분류\"),\n",
    "        }\n",
    "\n",
    "    except Exception as e:\n",
    "        print(\"Error:\", e)\n",
    "        return {\n",
    "            \"category_large\": \"Error\",\n",
    "            \"category_medium\": \"Error\",\n",
    "            \"category_small\": \"Error\"\n",
    "        }\n"
   ]
  },
  {
   "cell_type": "code",
   "execution_count": null,
   "id": "c6372be7",
   "metadata": {},
   "outputs": [],
   "source": [
    "# JSON 불러오기\n",
    "with open(difficulty_output_path, \"r\", encoding=\"utf-8\") as f:\n",
    "    requirements = json.load(f)\n",
    "\n",
    "# 분류 수행\n",
    "for req in tqdm(requirements):\n",
    "    desc = req.get(\"description\", \"\")\n",
    "    detailed_desc = req.get(\"detailed_description\", \"\")\n",
    "    module = req.get(\"responsible_module\", \"\")\n",
    "    category = classify_requirement(desc, detailed_desc, module)\n",
    "    req.update(category)  # 분류 결과 추가\n",
    "\n",
    "classified_output_path = \"./data/enriched_requirements_classified.json\"\n",
    "\n",
    "# 결과 저장\n",
    "with open(classified_output_path, \"w\", encoding=\"utf-8\") as f:\n",
    "    json.dump(requirements, f, ensure_ascii=False, indent=4)\n",
    "\n",
    "print(\"🗂️ 요구사항 분류 완료: enriched_requirements_classified.json 저장됨.\")"
   ]
  }
 ],
 "metadata": {
  "kernelspec": {
   "display_name": "langchain-kr-YNZJsH64-py3.11",
   "language": "python",
   "name": "python3"
  },
  "language_info": {
   "codemirror_mode": {
    "name": "ipython",
    "version": 3
   },
   "file_extension": ".py",
   "mimetype": "text/x-python",
   "name": "python",
   "nbconvert_exporter": "python",
   "pygments_lexer": "ipython3",
   "version": "3.11.0"
  }
 },
 "nbformat": 4,
 "nbformat_minor": 5
}
