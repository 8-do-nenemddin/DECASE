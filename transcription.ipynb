{
 "cells": [
  {
   "cell_type": "code",
   "execution_count": 2,
   "metadata": {},
   "outputs": [
    {
     "data": {
      "text/plain": [
       "True"
      ]
     },
     "execution_count": 2,
     "metadata": {},
     "output_type": "execute_result"
    }
   ],
   "source": [
    "from dotenv import load_dotenv\n",
    "load_dotenv()"
   ]
  },
  {
   "cell_type": "code",
   "execution_count": 3,
   "metadata": {},
   "outputs": [
    {
     "name": "stderr",
     "output_type": "stream",
     "text": [
      "c:\\Users\\Administrator\\AppData\\Local\\Programs\\Python\\Python310\\lib\\site-packages\\whisper\\transcribe.py:132: UserWarning: FP16 is not supported on CPU; using FP32 instead\n",
      "  warnings.warn(\"FP16 is not supported on CPU; using FP32 instead\")\n"
     ]
    },
    {
     "name": "stdout",
     "output_type": "stream",
     "text": [
      "🎧 인식된 텍스트:\n",
      " 먼저 저희가 제조 쪽에 얘기를 할 때 보면 항상 오늘도 계속 나왔던 얘기가 G-TAL, Twin TAL, TES, Formation AI, 이런 얘글이 있는데 사실 이걸 다 설명을 하는 한 교묘이 있고 스페셜 없는데 저희가 생각하는 거는 레벨을 한 세 가지는 아닙니다 첫 번째 레벨은 저는 제조 쪽에 포크스가 맞춰져 있습니다 제조 쪽에서의 레벨을 얻을 수 있는 건 아닌데 레벨을 얻은 자산형으로 진사하는 겁니다 자산형으로는 제품에 대한 핸드웨터도 있지만 이 제품을 어떻게 생산할 거에 대한 생산 공복도 있습니다 그 다음에 현장에서 발생한 MS나 IMT선로들과 굉장히 많은 데이터들이 있죠 그 모두 생산 정보를 퍼부러서 그걸 자산하는 걸 디에터를 해야 하는 게 레벨 원업이거든요 근데 그걸 하루가정이 슥 앞에서도 말씀하시면 굉장히 이상적인 일이긴 한데 현식적으로 한계가 있습니다 그런 부분들에 대한 부분이 있는데 그걸 어디까지는 내가 자산을 하느냐가 제조 중선은 굉장히 아보아일을 뽑는 데 있어서 되게 중요한 것 같아요 그래서 난 제품 같은 사람인가 우리는 공간 전차를 가야 돼 굉장히 그런 모두 데이터 가인 같은 사람야 레벨을 남아야 된다 그래서 레벨은 그게 원인이란데 사실은 제조 쪽에 가장 핵심은 저희는 또 문화도 입구가 계속 감성되었지만 자동화 자유라는 선택이 아니라 필수상이고 제조 입장에서 자동화 자유라는 어쩔 수 없이 기업의 생존에 있는 중요한 상황입니다 그러다 보니까 자동화 자유라는 제품 소용이 들어갈 수는 쪽으로 운영하는 게 굉장히 중요합니다 그래서 각오에는 예를 들어서 로봇 같은 경우에는 티침넷어들과 아니었고 로봇을 일일이 사람이 유만한 로봇을 티침대서는 그렇게 할 시간이 없죠 그 수장이 늘어나기 때문에 최근에는 로직스 쪽에서 시계차, 로봇을 끓이는 상황이 아닙니다 저희 집은 A몰 많이 삼아 있고요 그런 설미들을 어떻게 휴일 쪽으로 운영하는 건지 꼭 우는 걸 다 시뮬레이션하고 로직스 쪽에서 굉장히 레벨을 축하해야 돼요 마지막으로 레벨 수리는 뭐냐면 이 레벨 원과 레벨 틀을 섞입니다 내가 그렇게 시뮬레이션하고 자산 직탈을 해놨는데 내가 그렇게 해서 세상에서의 품질이 나올까 내가 원하는 품질까지 다 나올까 라는 분의 의심이 있었습니다 그래서 레벨 수리 부분은 이 레벨 원과 레벨 풀을 쓰는 데에 있어서 품질을 예측하는 기술이 굉장히 중요한데요 최근에 많이 나온 AI 기술이나 뭐 이런 것들이 대부분이 제조적에 주면 품질을 어떻게 휴일 쪽으로\n"
     ]
    }
   ],
   "source": [
    "import whisper\n",
    "\n",
    "# 모델 로드 (tiny, base, small, medium, large 중 선택)\n",
    "model = whisper.load_model(\"small\")  # 한국어 포함 멀티랭귀지 지원\n",
    "\n",
    "# 음성 파일 경로 설정\n",
    "audio_path = \"./korean011-4.wav\"  # mp3, wav, m4a 등 지원\n",
    "\n",
    "# 음성 파일을 텍스트로 변환\n",
    "result = model.transcribe(audio_path)\n",
    "\n",
    "# 결과 출력\n",
    "print(\"🎧 인식된 텍스트:\")\n",
    "print(result[\"text\"])"
   ]
  },
  {
   "cell_type": "code",
   "execution_count": null,
   "metadata": {},
   "outputs": [
    {
     "name": "stdout",
     "output_type": "stream",
     "text": [
      " 먼저 저희가 제조 쪽에 얘기를 할 때 보면 항상 오늘도 계속 나왔던 얘기가 G-TAL, Twin TAL, TES, Formation AI,\n",
      "이런 얘글이 있는데 사실 이걸 다 설명을 하는 한 교묘이 있고 스페셜 없는데 저희가 생각하는 거는 레벨을 한 세 가지는 아닙니다 첫 번째 레벨은\n",
      "저는 제조 쪽에 포크스가 맞춰져 있습니다 제조 쪽에서의 레벨을 얻을 수 있는 건 아닌데 레벨을 얻은 자산형으로 진사하는 겁니다 자산형으로는\n",
      "제품에 대한 핸드웨터도 있지만 이 제품을 어떻게 생산할 거에 대한 생산 공복도 있습니다 그 다음에 현장에서 발생한 MS나 IMT선로들과 굉장히\n",
      "많은 데이터들이 있죠 그 모두 생산 정보를 퍼부러서 그걸 자산하는 걸 디에터를 해야 하는 게 레벨 원업이거든요 근데 그걸 하루가정이 슥 앞에서도\n",
      "말씀하시면 굉장히 이상적인 일이긴 한데 현식적으로 한계가 있습니다 그런 부분들에 대한 부분이 있는데 그걸 어디까지는 내가 자산을 하느냐가 제조\n",
      "중선은 굉장히 아보아일을 뽑는 데 있어서 되게 중요한 것 같아요 그래서 난 제품 같은 사람인가 우리는 공간 전차를 가야 돼 굉장히 그런 모두\n",
      "데이터 가인 같은 사람야 레벨을 남아야 된다 그래서 레벨은 그게 원인이란데 사실은 제조 쪽에 가장 핵심은 저희는 또 문화도 입구가 계속\n",
      "감성되었지만 자동화 자유라는 선택이 아니라 필수상이고 제조 입장에서 자동화 자유라는 어쩔 수 없이 기업의 생존에 있는 중요한 상황입니다 그러다\n",
      "보니까 자동화 자유라는 제품 소용이 들어갈 수는 쪽으로 운영하는 게 굉장히 중요합니다 그래서 각오에는 예를 들어서 로봇 같은 경우에는\n",
      "티침넷어들과 아니었고 로봇을 일일이 사람이 유만한 로봇을 티침대서는 그렇게 할 시간이 없죠 그 수장이 늘어나기 때문에 최근에는 로직스 쪽에서\n",
      "시계차, 로봇을 끓이는 상황이 아닙니다 저희 집은 A몰 많이 삼아 있고요 그런 설미들을 어떻게 휴일 쪽으로 운영하는 건지 꼭 우는 걸 다\n",
      "시뮬레이션하고 로직스 쪽에서 굉장히 레벨을 축하해야 돼요 마지막으로 레벨 수리는 뭐냐면 이 레벨 원과 레벨 틀을 섞입니다 내가 그렇게\n",
      "시뮬레이션하고 자산 직탈을 해놨는데 내가 그렇게 해서 세상에서의 품질이 나올까 내가 원하는 품질까지 다 나올까 라는 분의 의심이 있었습니다\n",
      "그래서 레벨 수리 부분은 이 레벨 원과 레벨 풀을 쓰는 데에 있어서 품질을 예측하는 기술이 굉장히 중요한데요 최근에 많이 나온 AI 기술이나 뭐\n",
      "이런 것들이 대부분이 제조적에 주면 품질을 어떻게 휴일 쪽으로\n"
     ]
    }
   ],
   "source": [
    "import textwrap  # 줄바꿈을 위한 모듈\n",
    "\n",
    "wrapped_text = textwrap.fill(result[\"text\"], width=80)  # 화면 너비에 맞춰 줄바꿈 (기본 80자)\n",
    "print(wrapped_text)"
   ]
  },
  {
   "cell_type": "code",
   "execution_count": 1,
   "metadata": {},
   "outputs": [
    {
     "name": "stdout",
     "output_type": "stream",
     "text": [
      "현재 디렉토리: c:\\workspace\\ai-meeting-summary\\service\n",
      "파일 존재 여부: True\n"
     ]
    }
   ],
   "source": [
    "import os\n",
    "print(\"현재 디렉토리:\", os.getcwd())\n",
    "print(\"파일 존재 여부:\", os.path.exists(\"./korean011-4.wav\"))"
   ]
  }
 ],
 "metadata": {
  "kernelspec": {
   "display_name": "Python 3",
   "language": "python",
   "name": "python3"
  },
  "language_info": {
   "codemirror_mode": {
    "name": "ipython",
    "version": 3
   },
   "file_extension": ".py",
   "mimetype": "text/x-python",
   "name": "python",
   "nbconvert_exporter": "python",
   "pygments_lexer": "ipython3",
   "version": "3.10.0"
  }
 },
 "nbformat": 4,
 "nbformat_minor": 2
}
