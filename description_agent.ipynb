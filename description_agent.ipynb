{
 "cells": [
  {
   "cell_type": "code",
   "execution_count": 1,
   "id": "1d9c988f",
   "metadata": {},
   "outputs": [
    {
     "data": {
      "text/plain": [
       "True"
      ]
     },
     "execution_count": 1,
     "metadata": {},
     "output_type": "execute_result"
    }
   ],
   "source": [
    "from dotenv import load_dotenv\n",
    "load_dotenv()"
   ]
  },
  {
   "cell_type": "code",
   "execution_count": 2,
   "id": "461ec221",
   "metadata": {},
   "outputs": [],
   "source": [
    "import os\n",
    "api_key = os.getenv(\"OPENAI_API_KEY\")"
   ]
  },
  {
   "cell_type": "code",
   "execution_count": 3,
   "id": "dc68843e",
   "metadata": {},
   "outputs": [],
   "source": [
    "from openai import OpenAI\n",
    "\n",
    "client = OpenAI(api_key=api_key)"
   ]
  },
  {
   "cell_type": "code",
   "execution_count": 4,
   "id": "4a126711",
   "metadata": {},
   "outputs": [],
   "source": [
    "import json\n",
    "from tqdm import tqdm"
   ]
  },
  {
   "cell_type": "code",
   "execution_count": 5,
   "id": "5a4c52f9",
   "metadata": {},
   "outputs": [],
   "source": [
    "input_data = \"./data/extracted_requirements_final.json\""
   ]
  },
  {
   "cell_type": "code",
   "execution_count": 6,
   "id": "f22a0aa4",
   "metadata": {},
   "outputs": [],
   "source": [
    "def generate_detailed_prompt(description, snippet, module):\n",
    "    return f\"\"\"\n",
    "다음은 소프트웨어 시스템의 간략한 요구사항 정보입니다.\n",
    "\n",
    "[요구사항 설명]: {description}\n",
    "[원문 요약]: {snippet}\n",
    "[담당 모듈]: {module}\n",
    "\n",
    "아래 형식에 따라 이 요구사항에 대한 상세 설명을 작성해 주세요.\n",
    "\n",
    "□ 요구사항은 아래 내용을 참조로 도출하며, 요구사항, 대상업무, 요건처리 상세의 형식으로 작성 사례를 참조하여 작성함\n",
    "1) 요구사항 도출을 위한 기초자료\n",
    "   - PI 사업을 통해 도출된 산출물\n",
    "   - 현행 시스템을 분석한 현행시스템분석서\n",
    "   - 사업수행계획서, RFP, 인터뷰 결과서\n",
    "\n",
    "2) 작성 방법 (신규/개선 요구사항 기준)\n",
    "[요구사항]\n",
    "- 요구사항 내용을 간결하게 기술합니다.\n",
    "[대상업무]\n",
    "- 요구사항이 반영될 대상 업무를 기술하고, 구현되는 기능 유형(예: 화면, 온라인, 배치 등)을 명시합니다.\n",
    "[요건처리 상세]\n",
    "- 해당 요구사항을 어떻게 처리할지 구체적으로 기술합니다. (예: 어떤 데이터를 어떤 기준으로 계산하고 어디에 표시하는지, 흐름 중심의 처리 방식 등)\n",
    "\n",
    "예시:\n",
    "[요구사항]\n",
    "영업부점에서 등록한 지준이체예상보고 데이터를 기준으로 입출금 내역을 집계한다.\n",
    "[대상업무]\n",
    "자금결제관리 - 화면 기능\n",
    "[요건처리 상세]\n",
    "지준이체예상보고서에 등록된 입금/출금 데이터를 수집하여 이체사유별로 당일 집계금액을 계산하고, 사용자가 조회 가능한 화면에 표출한다.\n",
    "\n",
    "※ 반드시 위와 같은 형식으로만 응답해 주세요.\n",
    "\"\"\""
   ]
  },
  {
   "cell_type": "code",
   "execution_count": 7,
   "id": "23697bb8",
   "metadata": {},
   "outputs": [],
   "source": [
    "def get_detailed_description(description, snippet, module):\n",
    "    prompt = generate_detailed_prompt(description, snippet, module)\n",
    "    try:\n",
    "        response = client.chat.completions.create(\n",
    "            model=\"gpt-4\",\n",
    "            messages=[\n",
    "                {\"role\": \"system\", \"content\": \"당신은 시스템 분석 전문가이며, 업무 설명을 상세하게 기술하는 역할입니다.\"},\n",
    "                {\"role\": \"user\", \"content\": prompt}\n",
    "            ],\n",
    "            temperature=0.3\n",
    "        )\n",
    "        return response.choices[0].message.content.strip()\n",
    "    except Exception as e:\n",
    "        print(\"Error:\", e)\n",
    "        return \"상세 설명 생성 실패\""
   ]
  },
  {
   "cell_type": "code",
   "execution_count": 8,
   "id": "8da5dcee",
   "metadata": {},
   "outputs": [],
   "source": [
    "# JSON 불러오기\n",
    "with open(input_data, \"r\", encoding=\"utf-8\") as f:\n",
    "    requirements = json.load(f)"
   ]
  },
  {
   "cell_type": "code",
   "execution_count": null,
   "id": "c89a31af",
   "metadata": {},
   "outputs": [],
   "source": [
    "# 상세 설명 생성\n",
    "for req in tqdm(requirements, desc=\"🔍 상세 설명 생성 중\"):\n",
    "    desc = req.get(\"description\", \"\")\n",
    "    snippet = req.get(\"raw_text_snippet\", \"\")\n",
    "    module = req.get(\"responsible_module\", \"\")\n",
    "    req[\"detailed_description\"] = get_detailed_description(desc, snippet, module)\n",
    "\n",
    "# 결과 저장\n",
    "detailed_output_path = \"./data/enriched_requirements_detailed.json\"\n",
    "with open(detailed_output_path, \"w\", encoding=\"utf-8\") as f:\n",
    "    json.dump(requirements, f, ensure_ascii=False, indent=4)\n",
    "\n",
    "print(f\"✅ 상세 설명이 생성되어 저장되었습니다: {detailed_output_path}\")"
   ]
  }
 ],
 "metadata": {
  "kernelspec": {
   "display_name": "langchain-kr-YNZJsH64-py3.11",
   "language": "python",
   "name": "python3"
  },
  "language_info": {
   "codemirror_mode": {
    "name": "ipython",
    "version": 3
   },
   "file_extension": ".py",
   "mimetype": "text/x-python",
   "name": "python",
   "nbconvert_exporter": "python",
   "pygments_lexer": "ipython3",
   "version": "3.11.0"
  }
 },
 "nbformat": 4,
 "nbformat_minor": 5
}
